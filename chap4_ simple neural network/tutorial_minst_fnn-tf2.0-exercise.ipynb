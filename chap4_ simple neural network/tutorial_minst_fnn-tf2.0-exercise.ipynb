{
 "cells": [
  {
   "cell_type": "markdown",
   "metadata": {},
   "source": [
    "## 准备数据"
   ]
  },
  {
   "cell_type": "code",
   "execution_count": 19,
   "metadata": {},
   "outputs": [],
   "source": [
    "import os\n",
    "import numpy as np\n",
    "import tensorflow as tf\n",
    "from tensorflow import keras\n",
    "from tensorflow.keras import layers, optimizers, datasets\n",
    "\n",
    "os.environ['TF_CPP_MIN_LOG_LEVEL'] = '2'  # or any {'0', '1', '2'}\n",
    "\n",
    "def mnist_dataset():\n",
    "    (x, y), (x_test, y_test) = datasets.mnist.load_data()\n",
    "    #normalize\n",
    "    x = x/255.0\n",
    "    x_test = x_test/255.0\n",
    "\n",
    "        # Flatten images\n",
    "    x = x.reshape(-1, 28 * 28)  # Flatten training images\n",
    "    x_test = x_test.reshape(-1, 28 * 28)  # Flatten test images\n",
    "    \n",
    "    return (x, y), (x_test, y_test)"
   ]
  },
  {
   "cell_type": "code",
   "execution_count": 20,
   "metadata": {},
   "outputs": [
    {
     "name": "stdout",
     "output_type": "stream",
     "text": [
      "[(1, 'a'), (2, 'b'), (3, 'c'), (4, 'd')]\n"
     ]
    }
   ],
   "source": [
    "print(list(zip([1, 2, 3, 4], ['a', 'b', 'c', 'd'])))"
   ]
  },
  {
   "cell_type": "markdown",
   "metadata": {},
   "source": [
    "## 建立模型"
   ]
  },
  {
   "cell_type": "code",
   "execution_count": 22,
   "metadata": {},
   "outputs": [],
   "source": [
    "class myModel:\n",
    "    def __init__(self):\n",
    "        ####################\n",
    "        '''声明模型对应的参数'''\n",
    "        ####################\n",
    "        self.W1 = tf.Variable(tf.random.truncated_normal([784, 128], stddev=0.1))\n",
    "        self.b1 = tf.Variable(tf.zeros([128]))\n",
    "        self.W2 = tf.Variable(tf.random.truncated_normal([128, 10], stddev=0.1))\n",
    "        self.b2 = tf.Variable(tf.zeros([10]))\n",
    "\n",
    "\n",
    "    def __call__(self, x):\n",
    "        ####################\n",
    "        '''实现模型函数体,返回未归一化的logits'''\n",
    "        ####################\n",
    "        h1 = tf.nn.relu(tf.matmul(x, self.W1) + self.b1)\n",
    "        logits = tf.matmul(h1, self.W2) + self.b2\n",
    "        return logits\n",
    "\n",
    "        \n",
    "model = myModel()\n",
    "\n",
    "optimizer = optimizers.Adam()"
   ]
  },
  {
   "cell_type": "markdown",
   "metadata": {},
   "source": [
    "## 计算 loss"
   ]
  },
  {
   "cell_type": "code",
   "execution_count": 24,
   "metadata": {},
   "outputs": [],
   "source": [
    "@tf.function\n",
    "def compute_loss(logits, labels):\n",
    "    return tf.reduce_mean(\n",
    "        tf.nn.sparse_softmax_cross_entropy_with_logits(\n",
    "            logits=logits, labels=labels))\n",
    "\n",
    "@tf.function\n",
    "def compute_accuracy(logits, labels):\n",
    "    predictions = tf.argmax(logits, axis=1)\n",
    "    return tf.reduce_mean(tf.cast(tf.equal(predictions, labels), tf.float32))\n",
    "\n",
    "@tf.function\n",
    "def train_one_step(model, optimizer, x, y):\n",
    "    with tf.GradientTape() as tape:\n",
    "        logits = model(x)\n",
    "        loss = compute_loss(logits, y)\n",
    "\n",
    "    # compute gradient\n",
    "    trainable_vars = [model.W1, model.W2, model.b1, model.b2]\n",
    "    grads = tape.gradient(loss, trainable_vars)\n",
    "    for g, v in zip(grads, trainable_vars):\n",
    "        v.assign_sub(0.01*g)\n",
    "\n",
    "    accuracy = compute_accuracy(logits, y)\n",
    "\n",
    "    # loss and accuracy is scalar tensor\n",
    "    return loss, accuracy\n",
    "\n",
    "@tf.function\n",
    "def test(model, x, y):\n",
    "    logits = model(x)\n",
    "    loss = compute_loss(logits, y)\n",
    "    accuracy = compute_accuracy(logits, y)\n",
    "    return loss, accuracy"
   ]
  },
  {
   "cell_type": "markdown",
   "metadata": {},
   "source": [
    "## 实际训练"
   ]
  },
  {
   "cell_type": "code",
   "execution_count": 33,
   "metadata": {},
   "outputs": [
    {
     "name": "stdout",
     "output_type": "stream",
     "text": [
      "epoch 0 : loss 0.8683883 ; accuracy 0.79246664\n",
      "epoch 1 : loss 0.86699915 ; accuracy 0.7927\n",
      "epoch 2 : loss 0.86561614 ; accuracy 0.793\n",
      "epoch 3 : loss 0.8642392 ; accuracy 0.79328334\n",
      "epoch 4 : loss 0.86286837 ; accuracy 0.79345\n",
      "epoch 5 : loss 0.86150336 ; accuracy 0.79371667\n",
      "epoch 6 : loss 0.86014444 ; accuracy 0.79408336\n",
      "epoch 7 : loss 0.8587913 ; accuracy 0.79435\n",
      "epoch 8 : loss 0.857444 ; accuracy 0.7946\n",
      "epoch 9 : loss 0.8561026 ; accuracy 0.7949167\n",
      "epoch 10 : loss 0.8547671 ; accuracy 0.79518336\n",
      "epoch 11 : loss 0.8534375 ; accuracy 0.7956667\n",
      "epoch 12 : loss 0.8521136 ; accuracy 0.79585\n",
      "epoch 13 : loss 0.85079545 ; accuracy 0.7959833\n",
      "epoch 14 : loss 0.8494831 ; accuracy 0.7962\n",
      "epoch 15 : loss 0.8481762 ; accuracy 0.7962833\n",
      "epoch 16 : loss 0.84687513 ; accuracy 0.79655\n",
      "epoch 17 : loss 0.8455797 ; accuracy 0.79681665\n",
      "epoch 18 : loss 0.8442899 ; accuracy 0.79705\n",
      "epoch 19 : loss 0.8430056 ; accuracy 0.79735\n",
      "epoch 20 : loss 0.84172684 ; accuracy 0.7974667\n",
      "epoch 21 : loss 0.8404535 ; accuracy 0.79763335\n",
      "epoch 22 : loss 0.8391859 ; accuracy 0.79796666\n",
      "epoch 23 : loss 0.8379235 ; accuracy 0.79825\n",
      "epoch 24 : loss 0.8366665 ; accuracy 0.7984167\n",
      "epoch 25 : loss 0.83541507 ; accuracy 0.7987\n",
      "epoch 26 : loss 0.83416885 ; accuracy 0.79896665\n",
      "epoch 27 : loss 0.83292794 ; accuracy 0.7992167\n",
      "epoch 28 : loss 0.83169234 ; accuracy 0.79943335\n",
      "epoch 29 : loss 0.83046204 ; accuracy 0.7996333\n",
      "epoch 30 : loss 0.829237 ; accuracy 0.7998833\n",
      "epoch 31 : loss 0.82801706 ; accuracy 0.8001\n",
      "epoch 32 : loss 0.8268022 ; accuracy 0.8002\n",
      "epoch 33 : loss 0.8255926 ; accuracy 0.80048335\n",
      "epoch 34 : loss 0.824388 ; accuracy 0.8006667\n",
      "epoch 35 : loss 0.82318854 ; accuracy 0.801\n",
      "epoch 36 : loss 0.8219941 ; accuracy 0.80128336\n",
      "epoch 37 : loss 0.8208048 ; accuracy 0.80148333\n",
      "epoch 38 : loss 0.8196203 ; accuracy 0.8016667\n",
      "epoch 39 : loss 0.818441 ; accuracy 0.8019\n",
      "epoch 40 : loss 0.8172665 ; accuracy 0.8021167\n",
      "epoch 41 : loss 0.8160971 ; accuracy 0.80233335\n",
      "epoch 42 : loss 0.8149323 ; accuracy 0.80256665\n",
      "epoch 43 : loss 0.8137724 ; accuracy 0.8027\n",
      "epoch 44 : loss 0.8126173 ; accuracy 0.8028167\n",
      "epoch 45 : loss 0.81146693 ; accuracy 0.803\n",
      "epoch 46 : loss 0.8103212 ; accuracy 0.8031167\n",
      "epoch 47 : loss 0.8091802 ; accuracy 0.80345\n",
      "epoch 48 : loss 0.8080439 ; accuracy 0.80385\n",
      "epoch 49 : loss 0.80691224 ; accuracy 0.804\n",
      "test loss 0.78565925 ; accuracy 0.8117\n"
     ]
    }
   ],
   "source": [
    "train_data, test_data = mnist_dataset()\n",
    "for epoch in range(50):\n",
    "    loss, accuracy = train_one_step(model, optimizer, \n",
    "                                    tf.constant(train_data[0], dtype=tf.float32), \n",
    "                                    tf.constant(train_data[1], dtype=tf.int64))\n",
    "    print('epoch', epoch, ': loss', loss.numpy(), '; accuracy', accuracy.numpy())\n",
    "loss, accuracy = test(model, \n",
    "                      tf.constant(test_data[0], dtype=tf.float32), \n",
    "                      tf.constant(test_data[1], dtype=tf.int64))\n",
    "\n",
    "print('test loss', loss.numpy(), '; accuracy', accuracy.numpy())"
   ]
  }
 ],
 "metadata": {
  "kernelspec": {
   "display_name": "Python 3",
   "language": "python",
   "name": "python3"
  },
  "language_info": {
   "codemirror_mode": {
    "name": "ipython",
    "version": 3
   },
   "file_extension": ".py",
   "mimetype": "text/x-python",
   "name": "python",
   "nbconvert_exporter": "python",
   "pygments_lexer": "ipython3",
   "version": "3.10.5"
  }
 },
 "nbformat": 4,
 "nbformat_minor": 2
}
